{
 "cells": [
  {
   "cell_type": "code",
   "execution_count": 6,
   "id": "92cf282e-931e-4df7-b8a0-59612d620cb7",
   "metadata": {},
   "outputs": [
    {
     "name": "stdout",
     "output_type": "stream",
     "text": [
      "Note: you may need to restart the kernel to use updated packages.\n"
     ]
    }
   ],
   "source": [
    "pip install -q -U google-generativeai"
   ]
  },
  {
   "cell_type": "code",
   "execution_count": 8,
   "id": "e77bded3-9953-45bf-88b8-a44ce7b7a5a3",
   "metadata": {},
   "outputs": [
    {
     "name": "stdout",
     "output_type": "stream",
     "text": [
      "Requirement already satisfied: IPython in /Users/sshivagangeprakash/anaconda3/lib/python3.11/site-packages (8.15.0)\n",
      "Requirement already satisfied: backcall in /Users/sshivagangeprakash/anaconda3/lib/python3.11/site-packages (from IPython) (0.2.0)\n",
      "Requirement already satisfied: decorator in /Users/sshivagangeprakash/anaconda3/lib/python3.11/site-packages (from IPython) (5.1.1)\n",
      "Requirement already satisfied: jedi>=0.16 in /Users/sshivagangeprakash/anaconda3/lib/python3.11/site-packages (from IPython) (0.18.1)\n",
      "Requirement already satisfied: matplotlib-inline in /Users/sshivagangeprakash/anaconda3/lib/python3.11/site-packages (from IPython) (0.1.6)\n",
      "Requirement already satisfied: pickleshare in /Users/sshivagangeprakash/anaconda3/lib/python3.11/site-packages (from IPython) (0.7.5)\n",
      "Requirement already satisfied: prompt-toolkit!=3.0.37,<3.1.0,>=3.0.30 in /Users/sshivagangeprakash/anaconda3/lib/python3.11/site-packages (from IPython) (3.0.36)\n",
      "Requirement already satisfied: pygments>=2.4.0 in /Users/sshivagangeprakash/anaconda3/lib/python3.11/site-packages (from IPython) (2.15.1)\n",
      "Requirement already satisfied: stack-data in /Users/sshivagangeprakash/anaconda3/lib/python3.11/site-packages (from IPython) (0.2.0)\n",
      "Requirement already satisfied: traitlets>=5 in /Users/sshivagangeprakash/anaconda3/lib/python3.11/site-packages (from IPython) (5.7.1)\n",
      "Requirement already satisfied: pexpect>4.3 in /Users/sshivagangeprakash/anaconda3/lib/python3.11/site-packages (from IPython) (4.8.0)\n",
      "Requirement already satisfied: appnope in /Users/sshivagangeprakash/anaconda3/lib/python3.11/site-packages (from IPython) (0.1.2)\n",
      "Requirement already satisfied: parso<0.9.0,>=0.8.0 in /Users/sshivagangeprakash/anaconda3/lib/python3.11/site-packages (from jedi>=0.16->IPython) (0.8.3)\n",
      "Requirement already satisfied: ptyprocess>=0.5 in /Users/sshivagangeprakash/anaconda3/lib/python3.11/site-packages (from pexpect>4.3->IPython) (0.7.0)\n",
      "Requirement already satisfied: wcwidth in /Users/sshivagangeprakash/anaconda3/lib/python3.11/site-packages (from prompt-toolkit!=3.0.37,<3.1.0,>=3.0.30->IPython) (0.2.5)\n",
      "Requirement already satisfied: executing in /Users/sshivagangeprakash/anaconda3/lib/python3.11/site-packages (from stack-data->IPython) (0.8.3)\n",
      "Requirement already satisfied: asttokens in /Users/sshivagangeprakash/anaconda3/lib/python3.11/site-packages (from stack-data->IPython) (2.0.5)\n",
      "Requirement already satisfied: pure-eval in /Users/sshivagangeprakash/anaconda3/lib/python3.11/site-packages (from stack-data->IPython) (0.2.2)\n",
      "Requirement already satisfied: six in /Users/sshivagangeprakash/anaconda3/lib/python3.11/site-packages (from asttokens->stack-data->IPython) (1.16.0)\n",
      "Note: you may need to restart the kernel to use updated packages.\n"
     ]
    }
   ],
   "source": [
    "pip install IPython"
   ]
  },
  {
   "cell_type": "code",
   "execution_count": 9,
   "id": "5ded8898-b95a-4b4a-8055-8f920869abe6",
   "metadata": {},
   "outputs": [],
   "source": [
    "import pathlib\n",
    "import textwrap\n",
    "\n",
    "import google.generativeai as genai\n",
    "\n",
    "# Used to securely store your API key\n",
    "#from google.colab import userdata\n",
    "\n",
    "from IPython.display import display\n",
    "from IPython.display import Markdown\n",
    "\n",
    "\n",
    "def to_markdown(text):\n",
    "  text = text.replace('•', '  *')\n",
    "  return Markdown(textwrap.indent(text, '> ', predicate=lambda _: True))"
   ]
  },
  {
   "cell_type": "code",
   "execution_count": 10,
   "id": "e3dfb941-71f2-4295-bdcc-85e060357a26",
   "metadata": {},
   "outputs": [],
   "source": [
    "import os\n",
    "os.environ[\"GOOGLE_API_KEY\"] = \"<SET YOUR API KEY>\"\n",
    "GOOGLE_API_KEY=os.getenv('GOOGLE_API_KEY')\n",
    "\n",
    "genai.configure(api_key=GOOGLE_API_KEY)"
   ]
  },
  {
   "cell_type": "code",
   "execution_count": 11,
   "id": "07ea765e-9bcb-4215-a765-d9291e03221d",
   "metadata": {},
   "outputs": [
    {
     "name": "stdout",
     "output_type": "stream",
     "text": [
      "models/gemini-1.0-pro\n",
      "models/gemini-1.0-pro-001\n",
      "models/gemini-1.0-pro-latest\n",
      "models/gemini-1.0-pro-vision-latest\n",
      "models/gemini-pro\n",
      "models/gemini-pro-vision\n"
     ]
    }
   ],
   "source": [
    "for m in genai.list_models():\n",
    "  if 'generateContent' in m.supported_generation_methods:\n",
    "    print(m.name)"
   ]
  },
  {
   "cell_type": "code",
   "execution_count": 12,
   "id": "0cbdd6a1-dad3-4e9c-a18e-71aabc20af55",
   "metadata": {
    "scrolled": true
   },
   "outputs": [],
   "source": [
    "model = genai.GenerativeModel('gemini-pro')"
   ]
  },
  {
   "cell_type": "code",
   "execution_count": 13,
   "id": "1bc77c76-ef93-4559-9a6a-0ae8470842a1",
   "metadata": {},
   "outputs": [],
   "source": [
    "response = model.generate_content(\"Tell me something about Life\")"
   ]
  },
  {
   "cell_type": "code",
   "execution_count": 14,
   "id": "aecac525-3c62-4472-a16e-5b9ff5dc95e1",
   "metadata": {},
   "outputs": [
    {
     "data": {
      "text/markdown": [
       "> **Life:**\n",
       "> \n",
       "> * **Definition:** Life is a complex and multifaceted phenomenon characterized by the ability to maintain organization, respond to stimuli, reproduce, and evolve over time.\n",
       "> \n",
       "> **Origin and Evolution:**\n",
       "> \n",
       "> * The origin of life remains a scientific mystery, but theories suggest that it emerged from complex chemical reactions in prebiotic environments.\n",
       "> * Over time, life has evolved through the process of natural selection, leading to the vast diversity of organisms seen today.\n",
       "> \n",
       "> **Characteristics of Life:**\n",
       "> \n",
       "> * **Organization:** All living organisms exhibit a high degree of organization, from the molecular to the systemic level.\n",
       "> * **Metabolism:** They use energy to carry out essential processes such as growth, reproduction, and waste elimination.\n",
       "> * **Irritability (Responsiveness):** They can respond to changes in their environment through mechanisms like movement or chemical reactions.\n",
       "> * **Growth:** They increase in size and complexity over time.\n",
       "> * **Reproduction:** They create offspring, ensuring the continuity of their species.\n",
       "> * **Adaptation:** They have the capacity to adjust to changes in their environment or develop new traits that enhance their survival.\n",
       "> \n",
       "> **Diversity of Life:**\n",
       "> \n",
       "> * The planet Earth is home to an extraordinary array of life forms, ranging from microscopic bacteria to massive blue whales.\n",
       "> * Each species has unique adaptations that allow it to thrive in specific environments.\n",
       "> \n",
       "> **Importance of Life:**\n",
       "> \n",
       "> * Life is essential for the functioning of Earth's ecosystems, providing food, oxygen, and other resources necessary for survival.\n",
       "> * It is a source of wonder, beauty, and inspiration for humans and has shaped our culture, history, and philosophy.\n",
       "> \n",
       "> **Grand Questions:**\n",
       "> \n",
       "> * The nature of consciousness and the origin of life are among the biggest unanswered questions in science.\n",
       "> * The search for these answers continues to drive scientific inquiry and spark philosophical debate."
      ],
      "text/plain": [
       "<IPython.core.display.Markdown object>"
      ]
     },
     "execution_count": 14,
     "metadata": {},
     "output_type": "execute_result"
    }
   ],
   "source": [
    "to_markdown(response.text)"
   ]
  },
  {
   "cell_type": "code",
   "execution_count": null,
   "id": "a5531128",
   "metadata": {},
   "outputs": [],
   "source": []
  }
 ],
 "metadata": {
  "kernelspec": {
   "display_name": "Python 3 (ipykernel)",
   "language": "python",
   "name": "python3"
  },
  "language_info": {
   "codemirror_mode": {
    "name": "ipython",
    "version": 3
   },
   "file_extension": ".py",
   "mimetype": "text/x-python",
   "name": "python",
   "nbconvert_exporter": "python",
   "pygments_lexer": "ipython3",
   "version": "3.11.5"
  }
 },
 "nbformat": 4,
 "nbformat_minor": 5
}
