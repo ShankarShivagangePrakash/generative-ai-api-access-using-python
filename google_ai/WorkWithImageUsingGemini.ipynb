{
 "cells": [
  {
   "cell_type": "code",
   "execution_count": 1,
   "id": "f954e9c6-7a77-4111-a6b4-451aca06b489",
   "metadata": {},
   "outputs": [
    {
     "name": "stdout",
     "output_type": "stream",
     "text": [
      "Note: you may need to restart the kernel to use updated packages.\n"
     ]
    }
   ],
   "source": [
    "pip install -q -U google-generativeai"
   ]
  },
  {
   "cell_type": "code",
   "execution_count": 2,
   "id": "6803617f-2a7d-46ae-9d1b-40950c03ce29",
   "metadata": {},
   "outputs": [
    {
     "name": "stdout",
     "output_type": "stream",
     "text": [
      "Requirement already satisfied: IPython in /Users/sshivagangeprakash/anaconda3/lib/python3.11/site-packages (8.15.0)\n",
      "Requirement already satisfied: backcall in /Users/sshivagangeprakash/anaconda3/lib/python3.11/site-packages (from IPython) (0.2.0)\n",
      "Requirement already satisfied: decorator in /Users/sshivagangeprakash/anaconda3/lib/python3.11/site-packages (from IPython) (5.1.1)\n",
      "Requirement already satisfied: jedi>=0.16 in /Users/sshivagangeprakash/anaconda3/lib/python3.11/site-packages (from IPython) (0.18.1)\n",
      "Requirement already satisfied: matplotlib-inline in /Users/sshivagangeprakash/anaconda3/lib/python3.11/site-packages (from IPython) (0.1.6)\n",
      "Requirement already satisfied: pickleshare in /Users/sshivagangeprakash/anaconda3/lib/python3.11/site-packages (from IPython) (0.7.5)\n",
      "Requirement already satisfied: prompt-toolkit!=3.0.37,<3.1.0,>=3.0.30 in /Users/sshivagangeprakash/anaconda3/lib/python3.11/site-packages (from IPython) (3.0.36)\n",
      "Requirement already satisfied: pygments>=2.4.0 in /Users/sshivagangeprakash/anaconda3/lib/python3.11/site-packages (from IPython) (2.15.1)\n",
      "Requirement already satisfied: stack-data in /Users/sshivagangeprakash/anaconda3/lib/python3.11/site-packages (from IPython) (0.2.0)\n",
      "Requirement already satisfied: traitlets>=5 in /Users/sshivagangeprakash/anaconda3/lib/python3.11/site-packages (from IPython) (5.7.1)\n",
      "Requirement already satisfied: pexpect>4.3 in /Users/sshivagangeprakash/anaconda3/lib/python3.11/site-packages (from IPython) (4.8.0)\n",
      "Requirement already satisfied: appnope in /Users/sshivagangeprakash/anaconda3/lib/python3.11/site-packages (from IPython) (0.1.2)\n",
      "Requirement already satisfied: parso<0.9.0,>=0.8.0 in /Users/sshivagangeprakash/anaconda3/lib/python3.11/site-packages (from jedi>=0.16->IPython) (0.8.3)\n",
      "Requirement already satisfied: ptyprocess>=0.5 in /Users/sshivagangeprakash/anaconda3/lib/python3.11/site-packages (from pexpect>4.3->IPython) (0.7.0)\n",
      "Requirement already satisfied: wcwidth in /Users/sshivagangeprakash/anaconda3/lib/python3.11/site-packages (from prompt-toolkit!=3.0.37,<3.1.0,>=3.0.30->IPython) (0.2.5)\n",
      "Requirement already satisfied: executing in /Users/sshivagangeprakash/anaconda3/lib/python3.11/site-packages (from stack-data->IPython) (0.8.3)\n",
      "Requirement already satisfied: asttokens in /Users/sshivagangeprakash/anaconda3/lib/python3.11/site-packages (from stack-data->IPython) (2.0.5)\n",
      "Requirement already satisfied: pure-eval in /Users/sshivagangeprakash/anaconda3/lib/python3.11/site-packages (from stack-data->IPython) (0.2.2)\n",
      "Requirement already satisfied: six in /Users/sshivagangeprakash/anaconda3/lib/python3.11/site-packages (from asttokens->stack-data->IPython) (1.16.0)\n",
      "Note: you may need to restart the kernel to use updated packages.\n"
     ]
    }
   ],
   "source": [
    "pip install IPython"
   ]
  },
  {
   "cell_type": "code",
   "execution_count": 4,
   "id": "8cca98ff-fc2c-4dd5-842c-6e83a0af03da",
   "metadata": {},
   "outputs": [],
   "source": [
    "import pathlib\n",
    "import textwrap\n",
    "\n",
    "import google.generativeai as genai\n",
    "\n",
    "# Used to securely store your API key\n",
    "#from google.colab import userdata\n",
    "\n",
    "from IPython.display import display\n",
    "from IPython.display import Markdown\n",
    "\n",
    "\n",
    "def to_markdown(text):\n",
    "  text = text.replace('•', '  *')\n",
    "  return Markdown(textwrap.indent(text, '> ', predicate=lambda _: True))"
   ]
  },
  {
   "cell_type": "code",
   "execution_count": 5,
   "id": "32fd30bb-5437-4f04-a644-d569ac4f1d5c",
   "metadata": {},
   "outputs": [],
   "source": [
    "import os\n",
    "os.environ[\"GOOGLE_API_KEY\"] = \"<SET YOUR API KEY>\"\n",
    "GOOGLE_API_KEY=os.getenv('GOOGLE_API_KEY')\n",
    "\n",
    "genai.configure(api_key=GOOGLE_API_KEY)"
   ]
  },
  {
   "cell_type": "code",
   "execution_count": 6,
   "id": "1ac00958-8a5f-48c2-8b76-05357e1572d2",
   "metadata": {},
   "outputs": [],
   "source": [
    "model = genai.GenerativeModel('gemini-pro-vision')"
   ]
  },
  {
   "cell_type": "code",
   "execution_count": 7,
   "id": "526c7d24-e0b0-49f7-bb7c-4d510a0e7e38",
   "metadata": {},
   "outputs": [],
   "source": [
    "from PIL import Image"
   ]
  },
  {
   "cell_type": "code",
   "execution_count": 8,
   "id": "8f0e47b9-ca39-450c-a510-b017b78b62e1",
   "metadata": {},
   "outputs": [],
   "source": [
    "image = Image.open(\"pizza.jpg\")"
   ]
  },
  {
   "cell_type": "code",
   "execution_count": 9,
   "id": "97178145-7704-4310-ae1a-23b866c8838e",
   "metadata": {},
   "outputs": [],
   "source": [
    "my_image = image"
   ]
  },
  {
   "cell_type": "code",
   "execution_count": 10,
   "id": "2ca80fab-a1e9-4d66-b382-2debd2b2f96e",
   "metadata": {},
   "outputs": [
    {
     "data": {
      "text/markdown": [
       ">  The pizza looks delicious! It has a crispy crust and is topped with lots of cheese, vegetables, and meat. I'm sure it would be a hit at any party or gathering."
      ],
      "text/plain": [
       "<IPython.core.display.Markdown object>"
      ]
     },
     "execution_count": 10,
     "metadata": {},
     "output_type": "execute_result"
    }
   ],
   "source": [
    "response = model.generate_content(my_image)\n",
    "\n",
    "to_markdown(response.text)"
   ]
  },
  {
   "cell_type": "code",
   "execution_count": 11,
   "id": "fe0bd4c8-551a-4fd2-8a16-1c4642403914",
   "metadata": {},
   "outputs": [],
   "source": [
    "response = model.generate_content([\"Create a blog of 1000 words that will be about how to prepare a dish from given image\",my_image], stream = True)"
   ]
  },
  {
   "cell_type": "code",
   "execution_count": 12,
   "id": "e64c9886-12e8-44cf-8eec-d23f365b5ef8",
   "metadata": {
    "scrolled": true
   },
   "outputs": [
    {
     "data": {
      "text/markdown": [
       ">  Title: How to Make a Supreme Pizza\n",
       "> \n",
       "> Introduction:\n",
       "> Pizza is a delicious and versatile dish that can be enjoyed by people of all ages. Whether you're having a party or just a quiet night at home, pizza is always a good choice. If you're looking for a supreme pizza that is loaded with flavor, then this is the recipe for you. This pizza is made with a crispy crust, a tangy sauce, and a variety of delicious toppings. So gather your ingredients and let's get started!\n",
       "> \n",
       "> Ingredients:\n",
       "> For the crust:\n",
       "> 1 cup warm water (105-115 degrees F)\n",
       "> 1 teaspoon sugar\n",
       "> 2 1/4 teaspoons active dry yeast\n",
       "> 2 tablespoons olive oil\n",
       "> 1 teaspoon salt\n",
       "> 3 cups all-purpose flour, plus more for dusting\n",
       "> \n",
       "> For the sauce:\n",
       "> 1 tablespoon olive oil\n",
       "> 1/2 cup chopped onion\n",
       "> 2 cloves garlic, minced\n",
       "> 1 (28-ounce) can of crushed tomatoes\n",
       "> 1 teaspoon dried oregano\n",
       "> 1 teaspoon dried basil\n",
       "> 1/2 teaspoon salt\n",
       "> 1/4 teaspoon black pepper\n",
       "> \n",
       "> For the toppings:\n",
       "> 1 cup shredded mozzarella cheese\n",
       "> 1/2 cup grated Parmesan cheese\n",
       "> 1/2 cup sliced pepperoni\n",
       "> 1/2 cup diced"
      ],
      "text/plain": [
       "<IPython.core.display.Markdown object>"
      ]
     },
     "execution_count": 12,
     "metadata": {},
     "output_type": "execute_result"
    }
   ],
   "source": [
    "response.resolve()\n",
    "to_markdown(response.text)"
   ]
  },
  {
   "cell_type": "code",
   "execution_count": null,
   "id": "80025742",
   "metadata": {},
   "outputs": [],
   "source": []
  }
 ],
 "metadata": {
  "kernelspec": {
   "display_name": "Python 3 (ipykernel)",
   "language": "python",
   "name": "python3"
  },
  "language_info": {
   "codemirror_mode": {
    "name": "ipython",
    "version": 3
   },
   "file_extension": ".py",
   "mimetype": "text/x-python",
   "name": "python",
   "nbconvert_exporter": "python",
   "pygments_lexer": "ipython3",
   "version": "3.11.5"
  }
 },
 "nbformat": 4,
 "nbformat_minor": 5
}
